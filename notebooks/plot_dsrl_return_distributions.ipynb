{
 "cells": [
  {
   "cell_type": "code",
   "execution_count": 2,
   "metadata": {},
   "outputs": [
    {
     "name": "stderr",
     "output_type": "stream",
     "text": [
      "/NAS2020/Workspaces/DRLGroup/zbzhu/envs/miniconda3/envs/safediff/lib/python3.8/site-packages/glfw/__init__.py:916: GLFWError: (65544) b'X11: The DISPLAY environment variable is missing'\n",
      "  warnings.warn(message, GLFWError)\n",
      "/NAS2020/Workspaces/DRLGroup/zbzhu/envs/miniconda3/envs/safediff/lib/python3.8/site-packages/ml_collections/config_flags/config_flags.py:19: DeprecationWarning: the imp module is deprecated in favour of importlib; see the module's documentation for alternative uses\n",
      "  import imp\n"
     ]
    }
   ],
   "source": [
    "import dsrl\n",
    "import gymnasium\n",
    "import numpy as np\n",
    "import matplotlib.pyplot as plt\n",
    "\n",
    "from data.sequence import SequenceDataset\n",
    "from data.dsrl import get_dataset"
   ]
  },
  {
   "cell_type": "code",
   "execution_count": 3,
   "metadata": {},
   "outputs": [
    {
     "name": "stderr",
     "output_type": "stream",
     "text": [
      "pybullet build time: May 20 2022 19:44:17\n"
     ]
    },
    {
     "name": "stdout",
     "output_type": "stream",
     "text": [
      "argv[0]=\n",
      "Loading dataset from /home/zbzhu/.dsrl/datasets/SafetyCarRun-v0-40-651.hdf5\n"
     ]
    },
    {
     "name": "stderr",
     "output_type": "stream",
     "text": [
      "load datafile: 100%|██████████| 7/7 [00:00<00:00, 64.18it/s]\n"
     ]
    },
    {
     "name": "stdout",
     "output_type": "stream",
     "text": [
      "Pareto: 0 optimal values, 0 objects\n"
     ]
    },
    {
     "ename": "TypeError",
     "evalue": "expected non-empty vector for x",
     "output_type": "error",
     "traceback": [
      "\u001b[0;31m---------------------------------------------------------------------------\u001b[0m",
      "\u001b[0;31mTypeError\u001b[0m                                 Traceback (most recent call last)",
      "Cell \u001b[0;32mIn[3], line 1\u001b[0m\n\u001b[0;32m----> 1\u001b[0m dataset \u001b[39m=\u001b[39m get_dataset(\n\u001b[1;32m      2\u001b[0m     gymnasium\u001b[39m.\u001b[39;49mmake(\u001b[39m\"\u001b[39;49m\u001b[39mOfflineCarRun-v0\u001b[39;49m\u001b[39m\"\u001b[39;49m),\n\u001b[1;32m      3\u001b[0m     max_traj_length\u001b[39m=\u001b[39;49m\u001b[39m200\u001b[39;49m,\n\u001b[1;32m      4\u001b[0m     deg\u001b[39m=\u001b[39;49m\u001b[39m0\u001b[39;49m,\n\u001b[1;32m      5\u001b[0m     max_rew_decrease\u001b[39m=\u001b[39;49m\u001b[39m100\u001b[39;49m,\n\u001b[1;32m      6\u001b[0m     max_reward\u001b[39m=\u001b[39;49m\u001b[39m600.0\u001b[39;49m,\n\u001b[1;32m      7\u001b[0m     min_reward\u001b[39m=\u001b[39;49m\u001b[39m1.0\u001b[39;49m,\n\u001b[1;32m      8\u001b[0m )\n",
      "File \u001b[0;32m/NAS2020/Workspaces/DRLGroup/zbzhu/SafeDiff/safe-decision-diffuser/data/dsrl.py:67\u001b[0m, in \u001b[0;36mget_dataset\u001b[0;34m(env, max_traj_length, use_cost, termination_penalty, include_next_obs, pareto_optimal_only, aug_percent, deg, max_rew_decrease, beta, max_reward, min_reward, rmin, cost_bins, max_num_per_bin, clip_to_eps)\u001b[0m\n\u001b[1;32m     17\u001b[0m \u001b[39mdef\u001b[39;00m \u001b[39mget_dataset\u001b[39m(\n\u001b[1;32m     18\u001b[0m     env,\n\u001b[1;32m     19\u001b[0m     max_traj_length: \u001b[39mint\u001b[39m,\n\u001b[0;32m   (...)\u001b[0m\n\u001b[1;32m     33\u001b[0m     clip_to_eps: \u001b[39mbool\u001b[39m \u001b[39m=\u001b[39m \u001b[39mFalse\u001b[39;00m,\n\u001b[1;32m     34\u001b[0m ):\n\u001b[1;32m     35\u001b[0m     preprocess_fn \u001b[39m=\u001b[39m compose(\n\u001b[1;32m     36\u001b[0m         partial(\n\u001b[1;32m     37\u001b[0m             pad_trajs_to_dataset,\n\u001b[0;32m   (...)\u001b[0m\n\u001b[1;32m     65\u001b[0m         )\n\u001b[1;32m     66\u001b[0m     )\n\u001b[0;32m---> 67\u001b[0m     \u001b[39mreturn\u001b[39;00m DSRLDataset(env, preprocess_fn\u001b[39m=\u001b[39;49mpreprocess_fn)\n",
      "File \u001b[0;32m/NAS2020/Workspaces/DRLGroup/zbzhu/SafeDiff/safe-decision-diffuser/data/dsrl.py:73\u001b[0m, in \u001b[0;36mDSRLDataset.__init__\u001b[0;34m(self, env, preprocess_fn, **kwargs)\u001b[0m\n\u001b[1;32m     71\u001b[0m \u001b[39mdef\u001b[39;00m \u001b[39m__init__\u001b[39m(\u001b[39mself\u001b[39m, env: gymnasium\u001b[39m.\u001b[39mEnv, preprocess_fn, \u001b[39m*\u001b[39m\u001b[39m*\u001b[39mkwargs):\n\u001b[1;32m     72\u001b[0m     \u001b[39mself\u001b[39m\u001b[39m.\u001b[39mraw_dataset \u001b[39m=\u001b[39m dataset \u001b[39m=\u001b[39m env\u001b[39m.\u001b[39mget_dataset()\n\u001b[0;32m---> 73\u001b[0m     data_dict \u001b[39m=\u001b[39m preprocess_fn(dataset)\n\u001b[1;32m     74\u001b[0m     \u001b[39msuper\u001b[39m()\u001b[39m.\u001b[39m\u001b[39m__init__\u001b[39m(\u001b[39m*\u001b[39m\u001b[39m*\u001b[39mdata_dict, \u001b[39m*\u001b[39m\u001b[39m*\u001b[39mkwargs)\n",
      "File \u001b[0;32m/NAS2020/Workspaces/DRLGroup/zbzhu/SafeDiff/safe-decision-diffuser/utilities/utils.py:54\u001b[0m, in \u001b[0;36mcompose.<locals>.<lambda>\u001b[0;34m(x)\u001b[0m\n\u001b[1;32m     53\u001b[0m \u001b[39mdef\u001b[39;00m \u001b[39mcompose\u001b[39m(\u001b[39m*\u001b[39mfunctions):\n\u001b[0;32m---> 54\u001b[0m     \u001b[39mreturn\u001b[39;00m functools\u001b[39m.\u001b[39mreduce(\u001b[39mlambda\u001b[39;00m f, g: \u001b[39mlambda\u001b[39;00m x: f(g(x)), functions, \u001b[39mlambda\u001b[39;00m x: x)\n",
      "File \u001b[0;32m/NAS2020/Workspaces/DRLGroup/zbzhu/SafeDiff/safe-decision-diffuser/utilities/utils.py:54\u001b[0m, in \u001b[0;36mcompose.<locals>.<lambda>\u001b[0;34m(x)\u001b[0m\n\u001b[1;32m     53\u001b[0m \u001b[39mdef\u001b[39;00m \u001b[39mcompose\u001b[39m(\u001b[39m*\u001b[39mfunctions):\n\u001b[0;32m---> 54\u001b[0m     \u001b[39mreturn\u001b[39;00m functools\u001b[39m.\u001b[39mreduce(\u001b[39mlambda\u001b[39;00m f, g: \u001b[39mlambda\u001b[39;00m x: f(g(x)), functions, \u001b[39mlambda\u001b[39;00m x: x)\n",
      "File \u001b[0;32m/NAS2020/Workspaces/DRLGroup/zbzhu/SafeDiff/safe-decision-diffuser/utilities/utils.py:54\u001b[0m, in \u001b[0;36mcompose.<locals>.<lambda>\u001b[0;34m(x)\u001b[0m\n\u001b[1;32m     53\u001b[0m \u001b[39mdef\u001b[39;00m \u001b[39mcompose\u001b[39m(\u001b[39m*\u001b[39mfunctions):\n\u001b[0;32m---> 54\u001b[0m     \u001b[39mreturn\u001b[39;00m functools\u001b[39m.\u001b[39mreduce(\u001b[39mlambda\u001b[39;00m f, g: \u001b[39mlambda\u001b[39;00m x: f(g(x)), functions, \u001b[39mlambda\u001b[39;00m x: x)\n",
      "File \u001b[0;32m/NAS2020/Workspaces/DRLGroup/zbzhu/SafeDiff/safe-decision-diffuser/data/preprocess.py:351\u001b[0m, in \u001b[0;36mpareto_augmentation\u001b[0;34m(trajs, deg, max_rew_decrease, beta, aug_percent, max_reward, min_reward)\u001b[0m\n\u001b[1;32m    348\u001b[0m cost_returns_pareto \u001b[39m=\u001b[39m cost_returns[pareto_idx]\n\u001b[1;32m    349\u001b[0m reward_returns_pareto \u001b[39m=\u001b[39m reward_returns[pareto_idx]\n\u001b[1;32m    350\u001b[0m pareto_frontier \u001b[39m=\u001b[39m np\u001b[39m.\u001b[39mpoly1d(\n\u001b[0;32m--> 351\u001b[0m     np\u001b[39m.\u001b[39;49mpolyfit(cost_returns_pareto, reward_returns_pareto, deg\u001b[39m=\u001b[39;49mdeg)\n\u001b[1;32m    352\u001b[0m )\n\u001b[1;32m    354\u001b[0m sample_num \u001b[39m=\u001b[39m \u001b[39mint\u001b[39m(aug_percent \u001b[39m*\u001b[39m cost_returns\u001b[39m.\u001b[39mshape[\u001b[39m0\u001b[39m])\n\u001b[1;32m    355\u001b[0m \u001b[39m# the augmented data should be within the cost return range of the dataset\u001b[39;00m\n",
      "File \u001b[0;32m<__array_function__ internals>:200\u001b[0m, in \u001b[0;36mpolyfit\u001b[0;34m(*args, **kwargs)\u001b[0m\n",
      "File \u001b[0;32m/NAS2020/Workspaces/DRLGroup/zbzhu/envs/miniconda3/envs/safediff/lib/python3.8/site-packages/numpy/lib/polynomial.py:638\u001b[0m, in \u001b[0;36mpolyfit\u001b[0;34m(x, y, deg, rcond, full, w, cov)\u001b[0m\n\u001b[1;32m    636\u001b[0m     \u001b[39mraise\u001b[39;00m \u001b[39mTypeError\u001b[39;00m(\u001b[39m\"\u001b[39m\u001b[39mexpected 1D vector for x\u001b[39m\u001b[39m\"\u001b[39m)\n\u001b[1;32m    637\u001b[0m \u001b[39mif\u001b[39;00m x\u001b[39m.\u001b[39msize \u001b[39m==\u001b[39m \u001b[39m0\u001b[39m:\n\u001b[0;32m--> 638\u001b[0m     \u001b[39mraise\u001b[39;00m \u001b[39mTypeError\u001b[39;00m(\u001b[39m\"\u001b[39m\u001b[39mexpected non-empty vector for x\u001b[39m\u001b[39m\"\u001b[39m)\n\u001b[1;32m    639\u001b[0m \u001b[39mif\u001b[39;00m y\u001b[39m.\u001b[39mndim \u001b[39m<\u001b[39m \u001b[39m1\u001b[39m \u001b[39mor\u001b[39;00m y\u001b[39m.\u001b[39mndim \u001b[39m>\u001b[39m \u001b[39m2\u001b[39m:\n\u001b[1;32m    640\u001b[0m     \u001b[39mraise\u001b[39;00m \u001b[39mTypeError\u001b[39;00m(\u001b[39m\"\u001b[39m\u001b[39mexpected 1D or 2D array for y\u001b[39m\u001b[39m\"\u001b[39m)\n",
      "\u001b[0;31mTypeError\u001b[0m: expected non-empty vector for x"
     ]
    }
   ],
   "source": [
    "dataset = get_dataset(\n",
    "    gymnasium.make(\"OfflineCarRun-v0\"),\n",
    "    max_traj_length=200,\n",
    "    deg=0,\n",
    "    max_rew_decrease=100,\n",
    "    max_reward=600.0,\n",
    "    min_reward=1.0,\n",
    ")"
   ]
  },
  {
   "cell_type": "code",
   "execution_count": null,
   "metadata": {},
   "outputs": [],
   "source": []
  }
 ],
 "metadata": {
  "kernelspec": {
   "display_name": "safediff",
   "language": "python",
   "name": "python3"
  },
  "language_info": {
   "codemirror_mode": {
    "name": "ipython",
    "version": 3
   },
   "file_extension": ".py",
   "mimetype": "text/x-python",
   "name": "python",
   "nbconvert_exporter": "python",
   "pygments_lexer": "ipython3",
   "version": "3.8.17"
  },
  "orig_nbformat": 4
 },
 "nbformat": 4,
 "nbformat_minor": 2
}
